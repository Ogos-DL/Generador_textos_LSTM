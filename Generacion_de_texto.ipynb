{
 "cells": [
  {
   "cell_type": "code",
   "execution_count": 39,
   "metadata": {},
   "outputs": [],
   "source": [
    "import numpy as np\n",
    "import os\n",
    "from tensorflow.keras import utils\n",
    "from tensorflow.keras.models import Sequential,Model\n",
    "from tensorflow.keras.layers import LSTM,Dense,Input,Embedding,Bidirectional\n",
    "from tensorflow.keras.optimizers import Adam\n",
    "from tensorflow.keras.preprocessing.text import Tokenizer\n",
    "from tensorflow.keras.preprocessing.sequence import pad_sequences\n",
    "from sklearn.model_selection import train_test_split\n",
    "import random\n",
    "import tensorflow as tf\n",
    "import sys\n",
    "import re\n",
    "config = tf.compat.v1.ConfigProto()\n",
    "config.gpu_options.allow_growth=True\n",
    "sess = tf.compat.v1.Session(config=config)\n"
   ]
  },
  {
   "cell_type": "code",
   "execution_count": 15,
   "metadata": {},
   "outputs": [],
   "source": [
    "path=[x for x in os.scandir(r\"C:\\Users\\trilo\\Desktop\\Proyectos\\Periodista\\Noticias\")]"
   ]
  },
  {
   "cell_type": "code",
   "execution_count": 16,
   "metadata": {},
   "outputs": [
    {
     "data": {
      "text/plain": [
       "127916"
      ]
     },
     "execution_count": 16,
     "metadata": {},
     "output_type": "execute_result"
    }
   ],
   "source": [
    "text = \"\".join([open(x).read().lower() for x in path])\n",
    "len(text)"
   ]
  },
  {
   "cell_type": "code",
   "execution_count": 95,
   "metadata": {},
   "outputs": [
    {
     "name": "stdout",
     "output_type": "stream",
     "text": [
      "Secuencias: 124150\n"
     ]
    }
   ],
   "source": [
    "res=lambda x: re.sub('[^A-Za-zá-ú\\s]','',x)\n",
    "splitten=res(text).lower()\n",
    "maxlen = 40\n",
    "step =1\n",
    "sentences = []\n",
    "next_chars = []\n",
    "\n",
    "chars = sorted(list(set(splitten)))\n",
    "char_indices=dict((char, chars.index(char)) for char in chars)\n",
    "\n",
    "for i in range(0,len(splitten)-maxlen,step):\n",
    "    sentences.append(np.array([char_indices[x] for x in splitten[i:i+maxlen]]))\n",
    "    next_chars.append(char_indices[splitten[i+maxlen]])\n",
    "print('Secuencias:', len(sentences))\n",
    "#------------------------------------->>>>termina generacion de secuencias\n"
   ]
  },
  {
   "cell_type": "code",
   "execution_count": 96,
   "metadata": {},
   "outputs": [],
   "source": [
    "indices_char=dict([(x[1],x[0]) for x in char_indices.items()])"
   ]
  },
  {
   "cell_type": "code",
   "execution_count": 97,
   "metadata": {},
   "outputs": [],
   "source": [
    "def calculate(sentencia):\n",
    "    sentencia=np.array(sentencia)\n",
    "    x=np.zeros((len(sentencia),maxlen,len(chars)))\n",
    "    for i in range(len(sentencia)):\n",
    "        for k in range(maxlen):\n",
    "            x[i,k,sentencia[i,k]]=1\n",
    "    return x"
   ]
  },
  {
   "cell_type": "code",
   "execution_count": 98,
   "metadata": {},
   "outputs": [],
   "source": [
    "x=calculate(sentences)\n",
    "y=np.array(next_chars)"
   ]
  },
  {
   "cell_type": "code",
   "execution_count": 134,
   "metadata": {},
   "outputs": [],
   "source": [
    "adam=Adam(learning_rate=.001)"
   ]
  },
  {
   "cell_type": "code",
   "execution_count": 100,
   "metadata": {},
   "outputs": [],
   "source": [
    "L=len(chars)"
   ]
  },
  {
   "cell_type": "code",
   "execution_count": 101,
   "metadata": {},
   "outputs": [],
   "source": [
    "entrada0=Input((x.shape[1:]))\n",
    "capa_10=Bidirectional(LSTM(100,return_sequences=False,return_state=False,))(entrada0)\n",
    "# capa_10=Bidirectional(LSTM(100,return_sequences=False,return_state=False))(capa_10)\n",
    "salida0=Dense(L,activation=\"softmax\")(capa_10)\n",
    "Gen=Model(entrada0,salida0)\n",
    "Gen.compile(loss=\"sparse_categorical_crossentropy\",optimizer=adam,metrics=['acc'])"
   ]
  },
  {
   "cell_type": "code",
   "execution_count": 102,
   "metadata": {},
   "outputs": [
    {
     "name": "stdout",
     "output_type": "stream",
     "text": [
      "Model: \"functional_20\"\n",
      "_________________________________________________________________\n",
      "Layer (type)                 Output Shape              Param #   \n",
      "=================================================================\n",
      "input_14 (InputLayer)        [(None, 40, 34)]          0         \n",
      "_________________________________________________________________\n",
      "bidirectional_19 (Bidirectio (None, 200)               108000    \n",
      "_________________________________________________________________\n",
      "dense_10 (Dense)             (None, 34)                6834      \n",
      "=================================================================\n",
      "Total params: 114,834\n",
      "Trainable params: 114,834\n",
      "Non-trainable params: 0\n",
      "_________________________________________________________________\n"
     ]
    }
   ],
   "source": [
    "Gen.summary()"
   ]
  },
  {
   "cell_type": "code",
   "execution_count": 103,
   "metadata": {},
   "outputs": [],
   "source": [
    "xtr,xts,ytr,yts=train_test_split(x,y,test_size=.1,random_state=88)"
   ]
  },
  {
   "cell_type": "code",
   "execution_count": 142,
   "metadata": {
    "scrolled": true
   },
   "outputs": [
    {
     "name": "stdout",
     "output_type": "stream",
     "text": [
      "Epoch 1/5\n",
      "958/958 [==============================] - 51s 53ms/step - loss: 0.8803 - acc: 0.7167 - val_loss: 1.6854 - val_acc: 0.5707\n",
      "Epoch 2/5\n",
      "958/958 [==============================] - 50s 52ms/step - loss: 0.8781 - acc: 0.7172 - val_loss: 1.6573 - val_acc: 0.5686\n",
      "Epoch 3/5\n",
      "958/958 [==============================] - 51s 53ms/step - loss: 0.8750 - acc: 0.7180 - val_loss: 1.7192 - val_acc: 0.5576\n",
      "Epoch 4/5\n",
      "958/958 [==============================] - 50s 52ms/step - loss: 0.8828 - acc: 0.7162 - val_loss: 1.6855 - val_acc: 0.5711\n",
      "Epoch 5/5\n",
      "958/958 [==============================] - 51s 54ms/step - loss: 0.8826 - acc: 0.7148 - val_loss: 1.7059 - val_acc: 0.5654\n"
     ]
    }
   ],
   "source": [
    "history=Gen.fit(xtr, ytr,batch_size=105,epochs=5,validation_split=.1)"
   ]
  },
  {
   "cell_type": "code",
   "execution_count": 144,
   "metadata": {},
   "outputs": [],
   "source": [
    "Gen.save_weights(r'C:\\Users\\trilo\\text_generator\\text_generator_2.h5')"
   ]
  },
  {
   "cell_type": "code",
   "execution_count": 74,
   "metadata": {},
   "outputs": [],
   "source": [
    "Gen.load_weights(r'C:\\Users\\trilo\\text_generator\\text_generator.h5')"
   ]
  },
  {
   "cell_type": "code",
   "execution_count": 106,
   "metadata": {},
   "outputs": [],
   "source": [
    "def predecir(texto,total_len=100):\n",
    "    texto=texto.lower()\n",
    "    sentencia=[char_indices[x] for x in texto]\n",
    "    predicciones=[]\n",
    "    if len(sentencia)== maxlen:\n",
    "        for i in range(total_len):\n",
    "            x=calculate([sentencia[i:]])\n",
    "            pred=np.argmax(Gen.predict(x)[0])\n",
    "            predicciones.append(pred)\n",
    "            sentencia.append(pred)\n",
    "    else:\n",
    "        print(\"faltan {} palabras para completar el input\".format(str(maxlen-len(sentencia))))\n",
    "    return ''.join([indices_char[x] for x in sentencia])"
   ]
  },
  {
   "cell_type": "code",
   "execution_count": 143,
   "metadata": {},
   "outputs": [
    {
     "name": "stdout",
     "output_type": "stream",
     "text": [
      "la vacuna contra el coronavirus ya llego asegura de la casa rosada y la solicitada al proyecto de la cámara de casación el gobierno de la vacuna de un problo a la postura de la propieña de la provincia de manera al gobierno en la cámara federal de la militancia de que su condentima la constitucional de la cámara federal a la corte que está la semana de la sesión de la postura vez que se esperabla de la constitucionar porque toca en el proyecto de impuesto y saber la casa rosada de la vicepresidenta a presupuesto en la corte de será de la sesión por el medior son todos con la masitación de la vacuna sino con el proyecto de la vacuna confiaron a la corte gonenciar a representante a la semana de conocimiento de la corte se había constitucional de la próxima de la renta de la mayoría\n"
     ]
    }
   ],
   "source": [
    "pred=predecir(\"la vacuna contra el coronavirus ya llego\",total_len=750)\n",
    "print(pred)"
   ]
  },
  {
   "cell_type": "code",
   "execution_count": 139,
   "metadata": {},
   "outputs": [
    {
     "name": "stdout",
     "output_type": "stream",
     "text": [
      "el presidente indico el fin de la cuare de habla de la defensa na acuerdo a la cantidad de la corte para de mauricio macri es el congreso de la postfilma de la causa de este momento de la comunidad de los traslados de la corte segunda de la cercante que la comitiva es lo que la capitada a la comisión de los traslados de que el casa de más conscirnas de aportantes de la construción de los gobernadores y de la casa rosada de los procuradores y el caso\n",
      "\n",
      "\n",
      "el caso de la cuestión de cara respondió\n",
      "el presidente del consejo de juntos por el cambio en la corte suprema con los camaristas de la mayoría su consegión y del resto de la comisión de la por hablar justicia que la comitiva de impulsamos por el traslados con el kirchnerista de conochos y el deparel de buenos aires de la ciudad de \n"
     ]
    }
   ],
   "source": [
    "print(predecir(\"el presidente indico el fin de la cuare \".lower(),total_len=750))"
   ]
  },
  {
   "cell_type": "code",
   "execution_count": 141,
   "metadata": {},
   "outputs": [
    {
     "name": "stdout",
     "output_type": "stream",
     "text": [
      "la corte suprema aprobo el fallo final  millones de la corte entre los traslados en el consejo para el caso de la mayoría que tiene este fueron los desatorisses en la conduta el presidente de diputados que en la corte hubo y el debate con la corte segurió que el proyecto\n",
      "\n",
      "\n",
      "en la causa a la mitad de los provincias que con la cámara de casación del gobierno por la vacuna de la provincia de propio de la propia para sin el cambio de los gobernadores del gobierno por el caso el directores de la corte patra de la presenta en la corte suprema de la corte suprema de mauricio macrice con los recursos de la cámara de casacias con el fmitambre de vacunamiento propia confirmó a la aplicación para tiene que esta límita en el caso diferentes de conocimiento y al procedimbre y la propuesta en e\n"
     ]
    }
   ],
   "source": [
    "print(predecir(\"la corte suprema aprobo el fallo final  \".lower(),total_len=750))"
   ]
  }
 ],
 "metadata": {
  "kernelspec": {
   "display_name": "Python 3",
   "language": "python",
   "name": "python3"
  },
  "language_info": {
   "codemirror_mode": {
    "name": "ipython",
    "version": 3
   },
   "file_extension": ".py",
   "mimetype": "text/x-python",
   "name": "python",
   "nbconvert_exporter": "python",
   "pygments_lexer": "ipython3",
   "version": "3.7.0"
  }
 },
 "nbformat": 4,
 "nbformat_minor": 4
}
