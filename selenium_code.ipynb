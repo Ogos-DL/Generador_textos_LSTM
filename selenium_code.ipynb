{
 "cells": [
  {
   "cell_type": "code",
   "execution_count": 1,
   "metadata": {},
   "outputs": [],
   "source": [
    "from selenium import webdriver\n",
    "import time"
   ]
  },
  {
   "cell_type": "code",
   "execution_count": 2,
   "metadata": {},
   "outputs": [],
   "source": [
    "driver=webdriver.Chrome(\"chromedriver.exe\")\n",
    "driver.get(\"diario.com/seccion\")"
   ]
  },
  {
   "cell_type": "code",
   "execution_count": 3,
   "metadata": {},
   "outputs": [
    {
     "name": "stdout",
     "output_type": "stream",
     "text": [
      "listo\n"
     ]
    }
   ],
   "source": [
    "try:\n",
    "    while bool(driver.find_element_by_xpath('//*[@id=\"verMas\"]/a')):\n",
    "        driver.find_element_by_xpath('//*[@id=\"verMas\"]/a').click()\n",
    "except:\n",
    "    print(\"listo\")\n",
    "elementos=driver.find_elements_by_xpath('//*[@id=\"acumulado\"]/section[2]/section[1]/article/a')\n",
    "links=[x.get_attribute('href') for x in elementos]"
   ]
  },
  {
   "cell_type": "code",
   "execution_count": null,
   "metadata": {},
   "outputs": [],
   "source": [
    "for i in range(len(links)):\n",
    "    driver.get(links[i])\n",
    "    p=driver.find_elements_by_xpath('//*[@id=\"cuerpo\"]/p')\n",
    "    noticia=[x.text for x in p]\n",
    "    with open('noticia_{}_politica.txt'.format(str(i)),'a') as file:\n",
    "        for c in noticia:\n",
    "            file.write(c)\n",
    "            file.write('\\n')"
   ]
  }
 ],
 "metadata": {
  "kernelspec": {
   "display_name": "Python 3",
   "language": "python",
   "name": "python3"
  },
  "language_info": {
   "codemirror_mode": {
    "name": "ipython",
    "version": 3
   },
   "file_extension": ".py",
   "mimetype": "text/x-python",
   "name": "python",
   "nbconvert_exporter": "python",
   "pygments_lexer": "ipython3",
   "version": "3.7.0"
  }
 },
 "nbformat": 4,
 "nbformat_minor": 4
}
